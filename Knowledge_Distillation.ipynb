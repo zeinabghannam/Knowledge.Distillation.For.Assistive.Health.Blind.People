{
  "cells": [
    {
      "cell_type": "markdown",
      "metadata": {
        "id": "view-in-github",
        "colab_type": "text"
      },
      "source": [
        "<a href=\"https://colab.research.google.com/github/zeinabghannam/Knowledge.Distillation.For.Assistive.Health.Blind.People/blob/main/Knowledge_Distillation.ipynb\" target=\"_parent\"><img src=\"https://colab.research.google.com/assets/colab-badge.svg\" alt=\"Open In Colab\"/></a>"
      ]
    },
    {
      "cell_type": "markdown",
      "metadata": {
        "id": "jkqr2HlzLB9a"
      },
      "source": [
        "# Knowledge Distillation Experiment for compressing computer vision models(CNN) for assistive technology device for visually impaired.\n",
        "\n",
        "### Dissertation Code- Zeinab Ghannam\n",
        "\n"
      ]
    },
    {
      "cell_type": "markdown",
      "metadata": {
        "id": "-GsBrD4yLB9e"
      },
      "source": [
        "## Setup"
      ]
    },
    {
      "cell_type": "code",
      "execution_count": null,
      "metadata": {
        "colab": {
          "base_uri": "https://localhost:8080/"
        },
        "id": "Ml2uHYeESrN7",
        "outputId": "d8a9c51a-9be0-492e-9bf6-f4c5e773dda0"
      },
      "outputs": [
        {
          "name": "stdout",
          "output_type": "stream",
          "text": [
            "Collecting wandb\n",
            "  Downloading wandb-0.15.8-py3-none-any.whl (2.1 MB)\n",
            "\u001b[2K     \u001b[90m━━━━━━━━━━━━━━━━━━━━━━━━━━━━━━━━━━━━━━━━\u001b[0m \u001b[32m2.1/2.1 MB\u001b[0m \u001b[31m13.5 MB/s\u001b[0m eta \u001b[36m0:00:00\u001b[0m\n",
            "\u001b[?25hRequirement already satisfied: Click!=8.0.0,>=7.1 in /usr/local/lib/python3.10/dist-packages (from wandb) (8.1.7)\n",
            "Collecting GitPython!=3.1.29,>=1.0.0 (from wandb)\n",
            "  Downloading GitPython-3.1.32-py3-none-any.whl (188 kB)\n",
            "\u001b[2K     \u001b[90m━━━━━━━━━━━━━━━━━━━━━━━━━━━━━━━━━━━━━━\u001b[0m \u001b[32m188.5/188.5 kB\u001b[0m \u001b[31m15.1 MB/s\u001b[0m eta \u001b[36m0:00:00\u001b[0m\n",
            "\u001b[?25hRequirement already satisfied: requests<3,>=2.0.0 in /usr/local/lib/python3.10/dist-packages (from wandb) (2.31.0)\n",
            "Requirement already satisfied: psutil>=5.0.0 in /usr/local/lib/python3.10/dist-packages (from wandb) (5.9.5)\n",
            "Collecting sentry-sdk>=1.0.0 (from wandb)\n",
            "  Downloading sentry_sdk-1.29.2-py2.py3-none-any.whl (215 kB)\n",
            "\u001b[2K     \u001b[90m━━━━━━━━━━━━━━━━━━━━━━━━━━━━━━━━━━━━━━\u001b[0m \u001b[32m215.6/215.6 kB\u001b[0m \u001b[31m16.2 MB/s\u001b[0m eta \u001b[36m0:00:00\u001b[0m\n",
            "\u001b[?25hCollecting docker-pycreds>=0.4.0 (from wandb)\n",
            "  Downloading docker_pycreds-0.4.0-py2.py3-none-any.whl (9.0 kB)\n",
            "Requirement already satisfied: PyYAML in /usr/local/lib/python3.10/dist-packages (from wandb) (6.0.1)\n",
            "Collecting pathtools (from wandb)\n",
            "  Downloading pathtools-0.1.2.tar.gz (11 kB)\n",
            "  Preparing metadata (setup.py) ... \u001b[?25l\u001b[?25hdone\n",
            "Collecting setproctitle (from wandb)\n",
            "  Downloading setproctitle-1.3.2-cp310-cp310-manylinux_2_5_x86_64.manylinux1_x86_64.manylinux_2_17_x86_64.manylinux2014_x86_64.whl (30 kB)\n",
            "Requirement already satisfied: setuptools in /usr/local/lib/python3.10/dist-packages (from wandb) (67.7.2)\n",
            "Requirement already satisfied: appdirs>=1.4.3 in /usr/local/lib/python3.10/dist-packages (from wandb) (1.4.4)\n",
            "Requirement already satisfied: protobuf!=4.21.0,<5,>=3.19.0 in /usr/local/lib/python3.10/dist-packages (from wandb) (3.20.3)\n",
            "Requirement already satisfied: six>=1.4.0 in /usr/local/lib/python3.10/dist-packages (from docker-pycreds>=0.4.0->wandb) (1.16.0)\n",
            "Collecting gitdb<5,>=4.0.1 (from GitPython!=3.1.29,>=1.0.0->wandb)\n",
            "  Downloading gitdb-4.0.10-py3-none-any.whl (62 kB)\n",
            "\u001b[2K     \u001b[90m━━━━━━━━━━━━━━━━━━━━━━━━━━━━━━━━━━━━━━━━\u001b[0m \u001b[32m62.7/62.7 kB\u001b[0m \u001b[31m7.2 MB/s\u001b[0m eta \u001b[36m0:00:00\u001b[0m\n",
            "\u001b[?25hRequirement already satisfied: charset-normalizer<4,>=2 in /usr/local/lib/python3.10/dist-packages (from requests<3,>=2.0.0->wandb) (3.2.0)\n",
            "Requirement already satisfied: idna<4,>=2.5 in /usr/local/lib/python3.10/dist-packages (from requests<3,>=2.0.0->wandb) (3.4)\n",
            "Requirement already satisfied: urllib3<3,>=1.21.1 in /usr/local/lib/python3.10/dist-packages (from requests<3,>=2.0.0->wandb) (2.0.4)\n",
            "Requirement already satisfied: certifi>=2017.4.17 in /usr/local/lib/python3.10/dist-packages (from requests<3,>=2.0.0->wandb) (2023.7.22)\n",
            "Collecting smmap<6,>=3.0.1 (from gitdb<5,>=4.0.1->GitPython!=3.1.29,>=1.0.0->wandb)\n",
            "  Downloading smmap-5.0.0-py3-none-any.whl (24 kB)\n",
            "Building wheels for collected packages: pathtools\n",
            "  Building wheel for pathtools (setup.py) ... \u001b[?25l\u001b[?25hdone\n",
            "  Created wheel for pathtools: filename=pathtools-0.1.2-py3-none-any.whl size=8791 sha256=4c4282e2ae1aead40f7d75c2d546ff827610720b0bf9cd9cf13221119400754b\n",
            "  Stored in directory: /root/.cache/pip/wheels/e7/f3/22/152153d6eb222ee7a56ff8617d80ee5207207a8c00a7aab794\n",
            "Successfully built pathtools\n",
            "Installing collected packages: pathtools, smmap, setproctitle, sentry-sdk, docker-pycreds, gitdb, GitPython, wandb\n",
            "Successfully installed GitPython-3.1.32 docker-pycreds-0.4.0 gitdb-4.0.10 pathtools-0.1.2 sentry-sdk-1.29.2 setproctitle-1.3.2 smmap-5.0.0 wandb-0.15.8\n"
          ]
        }
      ],
      "source": [
        "pip install wandb"
      ]
    },
    {
      "cell_type": "code",
      "execution_count": null,
      "metadata": {
        "colab": {
          "base_uri": "https://localhost:8080/"
        },
        "id": "YuvlmCuqTeQc",
        "outputId": "b351da4f-6d43-490a-cce9-74f335c30f25"
      },
      "outputs": [
        {
          "name": "stdout",
          "output_type": "stream",
          "text": [
            "Drive already mounted at /content/drive; to attempt to forcibly remount, call drive.mount(\"/content/drive\", force_remount=True).\n"
          ]
        }
      ],
      "source": [
        "from google.colab import drive\n",
        "drive.mount('/content/drive')"
      ]
    },
    {
      "cell_type": "code",
      "execution_count": null,
      "metadata": {
        "id": "JVOwnv_VLB9f"
      },
      "outputs": [],
      "source": [
        "import tensorflow as tf\n",
        "from tensorflow import keras\n",
        "from tensorflow.keras import layers\n",
        "import numpy as np\n",
        "tf.random.set_seed(3)\n",
        "\n",
        "import cv2\n",
        "import imghdr\n",
        "\n",
        "import numpy as np\n",
        "from matplotlib import pyplot as plt\n",
        "\n",
        "import tensorflow as tf\n",
        "import os\n",
        "\n",
        "from tensorflow.keras.models import Sequential\n",
        "from tensorflow.keras.layers import Conv2D, MaxPooling2D, Dense, Flatten, Dropout\n",
        "\n",
        "from tensorflow.keras import metrics\n",
        "\n",
        "from tensorflow.keras.metrics import Precision, Recall, CategoricalAccuracy\n",
        "\n",
        "\n",
        "import cv2\n",
        "\n",
        "from tensorflow.keras.models import load_model\n",
        "\n",
        "\n",
        "import wandb\n",
        "from wandb.keras import WandbMetricsLogger, WandbModelCheckpoint"
      ]
    },
    {
      "cell_type": "code",
      "execution_count": null,
      "metadata": {
        "colab": {
          "base_uri": "https://localhost:8080/",
          "height": 214
        },
        "id": "g0wxftfBS27m",
        "outputId": "dbe5f88c-8af9-406b-e1da-9dc5be35df05"
      },
      "outputs": [
        {
          "data": {
            "application/javascript": [
              "\n",
              "        window._wandbApiKey = new Promise((resolve, reject) => {\n",
              "            function loadScript(url) {\n",
              "            return new Promise(function(resolve, reject) {\n",
              "                let newScript = document.createElement(\"script\");\n",
              "                newScript.onerror = reject;\n",
              "                newScript.onload = resolve;\n",
              "                document.body.appendChild(newScript);\n",
              "                newScript.src = url;\n",
              "            });\n",
              "            }\n",
              "            loadScript(\"https://cdn.jsdelivr.net/npm/postmate/build/postmate.min.js\").then(() => {\n",
              "            const iframe = document.createElement('iframe')\n",
              "            iframe.style.cssText = \"width:0;height:0;border:none\"\n",
              "            document.body.appendChild(iframe)\n",
              "            const handshake = new Postmate({\n",
              "                container: iframe,\n",
              "                url: 'https://wandb.ai/authorize'\n",
              "            });\n",
              "            const timeout = setTimeout(() => reject(\"Couldn't auto authenticate\"), 5000)\n",
              "            handshake.then(function(child) {\n",
              "                child.on('authorize', data => {\n",
              "                    clearTimeout(timeout)\n",
              "                    resolve(data)\n",
              "                });\n",
              "            });\n",
              "            })\n",
              "        });\n",
              "    "
            ],
            "text/plain": [
              "<IPython.core.display.Javascript object>"
            ]
          },
          "metadata": {},
          "output_type": "display_data"
        },
        {
          "name": "stderr",
          "output_type": "stream",
          "text": [
            "\u001b[34m\u001b[1mwandb\u001b[0m: Logging into wandb.ai. (Learn how to deploy a W&B server locally: https://wandb.me/wandb-server)\n",
            "\u001b[34m\u001b[1mwandb\u001b[0m: You can find your API key in your browser here: https://wandb.ai/authorize\n",
            "wandb: Paste an API key from your profile and hit enter, or press ctrl+c to quit:"
          ]
        },
        {
          "name": "stdout",
          "output_type": "stream",
          "text": [
            " ··········\n"
          ]
        },
        {
          "name": "stderr",
          "output_type": "stream",
          "text": [
            "\u001b[34m\u001b[1mwandb\u001b[0m: Appending key for api.wandb.ai to your netrc file: /root/.netrc\n"
          ]
        },
        {
          "data": {
            "text/html": [
              "Tracking run with wandb version 0.15.8"
            ],
            "text/plain": [
              "<IPython.core.display.HTML object>"
            ]
          },
          "metadata": {},
          "output_type": "display_data"
        },
        {
          "data": {
            "text/html": [
              "Run data is saved locally in <code>/content/wandb/run-20230824_132645-3d7bdd4a</code>"
            ],
            "text/plain": [
              "<IPython.core.display.HTML object>"
            ]
          },
          "metadata": {},
          "output_type": "display_data"
        },
        {
          "data": {
            "text/html": [
              "Syncing run <strong><a href='https://wandb.ai/zeinabghannam/uncategorized/runs/3d7bdd4a' target=\"_blank\">devoted-brook-6</a></strong> to <a href='https://wandb.ai/zeinabghannam/uncategorized' target=\"_blank\">Weights & Biases</a> (<a href='https://wandb.me/run' target=\"_blank\">docs</a>)<br/>"
            ],
            "text/plain": [
              "<IPython.core.display.HTML object>"
            ]
          },
          "metadata": {},
          "output_type": "display_data"
        },
        {
          "data": {
            "text/html": [
              " View project at <a href='https://wandb.ai/zeinabghannam/uncategorized' target=\"_blank\">https://wandb.ai/zeinabghannam/uncategorized</a>"
            ],
            "text/plain": [
              "<IPython.core.display.HTML object>"
            ]
          },
          "metadata": {},
          "output_type": "display_data"
        },
        {
          "data": {
            "text/html": [
              " View run at <a href='https://wandb.ai/zeinabghannam/uncategorized/runs/3d7bdd4a' target=\"_blank\">https://wandb.ai/zeinabghannam/uncategorized/runs/3d7bdd4a</a>"
            ],
            "text/plain": [
              "<IPython.core.display.HTML object>"
            ]
          },
          "metadata": {},
          "output_type": "display_data"
        },
        {
          "data": {
            "text/html": [
              "<button onClick=\"this.nextSibling.style.display='block';this.style.display='none';\">Display W&B run</button><iframe src='https://wandb.ai/zeinabghannam/uncategorized/runs/3d7bdd4a?jupyter=true' style='border:none;width:100%;height:420px;display:none;'></iframe>"
            ],
            "text/plain": [
              "<wandb.sdk.wandb_run.Run at 0x7be1e3de2830>"
            ]
          },
          "execution_count": 5,
          "metadata": {},
          "output_type": "execute_result"
        }
      ],
      "source": [
        "wandb.init(settings=wandb.Settings(start_method=\"thread\"))"
      ]
    },
    {
      "cell_type": "code",
      "execution_count": null,
      "metadata": {
        "colab": {
          "base_uri": "https://localhost:8080/"
        },
        "id": "75CBpV9OUi0D",
        "outputId": "aba1266d-be30-4911-93cc-0698e474c058"
      },
      "outputs": [
        {
          "name": "stdout",
          "output_type": "stream",
          "text": [
            "Found 1017 files belonging to 10 classes.\n"
          ]
        }
      ],
      "source": [
        "# path_to_data = \"/content/drive/MyDrive/datasets_colab/mini_clean_10_labels_256X3_nursing\"\n",
        "path_to_data =\"/content/drive/MyDrive/datasets_colab/final_100__mini_clean_10_labels_256X3_nursing\"\n",
        "\n",
        "data = tf.keras.utils.image_dataset_from_directory(path_to_data)"
      ]
    },
    {
      "cell_type": "code",
      "execution_count": null,
      "metadata": {
        "id": "SIUE97uGVQy2"
      },
      "outputs": [],
      "source": [
        "data_iterator = data.as_numpy_iterator()\n",
        "batch = data_iterator.next()"
      ]
    },
    {
      "cell_type": "code",
      "execution_count": null,
      "metadata": {
        "colab": {
          "base_uri": "https://localhost:8080/",
          "height": 172
        },
        "id": "hnb7wIEsXpe2",
        "outputId": "a642e714-9e7a-45ab-b72a-3749255c8de0"
      },
      "outputs": [
        {
          "data": {
            "image/png": "[encoded data removed]",
            "text/plain": [
              "<Figure size 2000x2000 with 10 Axes>"
            ]
          },
          "metadata": {},
          "output_type": "display_data"
        }
      ],
      "source": [
        "fig, ax = plt.subplots(ncols=10, figsize=(20,20))\n",
        "for idx, img in enumerate(batch[0][:10]):\n",
        "    ax[idx].imshow(img.astype(int))\n",
        "    ax[idx].title.set_text(batch[1][idx])"
      ]
    },
    {
      "cell_type": "code",
      "execution_count": null,
      "metadata": {
        "id": "M344xaI7Yiyr"
      },
      "outputs": [],
      "source": [
        "# Normalizing the data: pixels values:\n",
        "data = data.map(lambda x,y: (x/255, y))"
      ]
    },
    {
      "cell_type": "code",
      "execution_count": null,
      "metadata": {
        "id": "pX6icJcnaBnK"
      },
      "outputs": [],
      "source": [
        "# spliting the data to training, validating and testing (cross-validation to avoid overfitting)\n",
        "train_size = int(len(data)*.7)\n",
        "val_size = int(len(data)*.15)\n",
        "test_size = int(len(data)*.15)\n"
      ]
    },
    {
      "cell_type": "code",
      "execution_count": null,
      "metadata": {
        "id": "O4GlLA1saUlF"
      },
      "outputs": [],
      "source": [
        "train = data.take(train_size)\n",
        "val = data.skip(train_size).take(val_size)\n",
        "test = data.skip(train_size+val_size).take(test_size)"
      ]
    },
    {
      "cell_type": "code",
      "execution_count": null,
      "metadata": {
        "id": "27d1VAqeae9X"
      },
      "outputs": [],
      "source": [
        "# Hyperparameters:\n",
        "\n",
        "input_shape = (256,256,3)\n",
        "\n",
        "\n",
        "config={\n",
        "           \"conv_1_filter_size\" : (3,3),\n",
        "           \"conv_1_no_filters\" : 16,\n",
        "           \"conv_2_filter_size\" : (3,3),\n",
        "           \"conv_2_no_filters\" : 32,\n",
        "           \"conv_3_filter_size\" : (3,3),\n",
        "           \"conv_3_no_filters\" : 16,\n",
        "           \"conv_activation_fn\" : 'relu',\n",
        "            \"dense_1_no_neurons\": 256,\n",
        "            \"dense_1_activation_fn\": \"relu\",\n",
        "            \"dropout\": 0.5,\n",
        "            \"dense_output_classes\": 10,\n",
        "            \"dense_output_activation_fn\": \"softmax\",\n",
        "            \"optimizer\": \"adam\",\n",
        "            \"loss\": \"sparse_categorical_crossentropy\",\n",
        "            \"metric\": \"accuracy\",\n",
        "            \"epoch\": 10,\n",
        "            \"batch_size\": 32,\n",
        "           \"lr\" : 0.001,\n",
        "           }\n",
        "\n",
        "# print(config[\"epoch\"])"
      ]
    },
    {
      "cell_type": "code",
      "execution_count": null,
      "metadata": {
        "colab": {
          "base_uri": "https://localhost:8080/",
          "height": 273,
          "referenced_widgets": [
            "f67505d3b3104b12a489eb1a9cfb8586",
            "dc2b1313d7d542a1b1874f769af8c308",
            "11f80b04a750463bb8b5298281867d33",
            "ec6e1e0e839d4483aed26c81109b1c16",
            "280d232a5f634900a1fb9f928282edf4",
            "9f3965b11f504171b2fe88dc40cc09aa",
            "31c481c634d24d139ae87cd5d7279ae8",
            "610d2152477141f2b99f8a461c3428f3"
          ]
        },
        "id": "RsDWg3p5t3-Z",
        "outputId": "b1f1bdac-e416-4e37-9402-0aa6cfbe62a8"
      },
      "outputs": [
        {
          "data": {
            "text/html": [
              "Finishing last run (ID:3d7bdd4a) before initializing another..."
            ],
            "text/plain": [
              "<IPython.core.display.HTML object>"
            ]
          },
          "metadata": {},
          "output_type": "display_data"
        },
        {
          "data": {
            "text/html": [
              "Waiting for W&B process to finish... <strong style=\"color:green\">(success).</strong>"
            ],
            "text/plain": [
              "<IPython.core.display.HTML object>"
            ]
          },
          "metadata": {},
          "output_type": "display_data"
        },
        {
          "data": {
            "application/vnd.jupyter.widget-view+json": {
              "model_id": "f67505d3b3104b12a489eb1a9cfb8586",
              "version_major": 2,
              "version_minor": 0
            },
            "text/plain": [
              "VBox(children=(Label(value='0.001 MB of 0.009 MB uploaded (0.000 MB deduped)\\r'), FloatProgress(value=0.103642…"
            ]
          },
          "metadata": {},
          "output_type": "display_data"
        },
        {
          "data": {
            "text/html": [
              " View run <strong style=\"color:#cdcd00\">devoted-brook-6</strong> at: <a href='https://wandb.ai/zeinabghannam/uncategorized/runs/3d7bdd4a' target=\"_blank\">https://wandb.ai/zeinabghannam/uncategorized/runs/3d7bdd4a</a><br/>Synced 5 W&B file(s), 0 media file(s), 0 artifact file(s) and 0 other file(s)"
            ],
            "text/plain": [
              "<IPython.core.display.HTML object>"
            ]
          },
          "metadata": {},
          "output_type": "display_data"
        },
        {
          "data": {
            "text/html": [
              "Find logs at: <code>./wandb/run-20230824_132645-3d7bdd4a/logs</code>"
            ],
            "text/plain": [
              "<IPython.core.display.HTML object>"
            ]
          },
          "metadata": {},
          "output_type": "display_data"
        },
        {
          "data": {
            "text/html": [
              "Successfully finished last run (ID:3d7bdd4a). Initializing new run:<br/>"
            ],
            "text/plain": [
              "<IPython.core.display.HTML object>"
            ]
          },
          "metadata": {},
          "output_type": "display_data"
        },
        {
          "data": {
            "text/html": [
              "Tracking run with wandb version 0.15.8"
            ],
            "text/plain": [
              "<IPython.core.display.HTML object>"
            ]
          },
          "metadata": {},
          "output_type": "display_data"
        },
        {
          "data": {
            "text/html": [
              "Run data is saved locally in <code>/content/wandb/run-20230824_133046-t5l77yqj</code>"
            ],
            "text/plain": [
              "<IPython.core.display.HTML object>"
            ]
          },
          "metadata": {},
          "output_type": "display_data"
        },
        {
          "data": {
            "text/html": [
              "Syncing run <strong><a href='https://wandb.ai/zeinabghannam/Experiment_KD_2/runs/t5l77yqj' target=\"_blank\">comic-elevator-2</a></strong> to <a href='https://wandb.ai/zeinabghannam/Experiment_KD_2' target=\"_blank\">Weights & Biases</a> (<a href='https://wandb.me/run' target=\"_blank\">docs</a>)<br/>"
            ],
            "text/plain": [
              "<IPython.core.display.HTML object>"
            ]
          },
          "metadata": {},
          "output_type": "display_data"
        },
        {
          "data": {
            "text/html": [
              " View project at <a href='https://wandb.ai/zeinabghannam/Experiment_KD_2' target=\"_blank\">https://wandb.ai/zeinabghannam/Experiment_KD_2</a>"
            ],
            "text/plain": [
              "<IPython.core.display.HTML object>"
            ]
          },
          "metadata": {},
          "output_type": "display_data"
        },
        {
          "data": {
            "text/html": [
              " View run at <a href='https://wandb.ai/zeinabghannam/Experiment_KD_2/runs/t5l77yqj' target=\"_blank\">https://wandb.ai/zeinabghannam/Experiment_KD_2/runs/t5l77yqj</a>"
            ],
            "text/plain": [
              "<IPython.core.display.HTML object>"
            ]
          },
          "metadata": {},
          "output_type": "display_data"
        }
      ],
      "source": [
        "wandb.init(\n",
        "        project=\"Experiment_KD_2\",\n",
        "        # (optional) set entity to specify your username or team name\n",
        "        # entity=\"my_team\",\n",
        "        config=config,\n",
        "    )\n",
        "config = wandb.config"
      ]
    },
    {
      "cell_type": "code",
      "execution_count": null,
      "metadata": {
        "colab": {
          "base_uri": "https://localhost:8080/"
        },
        "id": "Nqik7iv7aiyP",
        "outputId": "91e2a91f-3396-45c3-9d95-d86cb81ae233"
      },
      "outputs": [
        {
          "name": "stdout",
          "output_type": "stream",
          "text": [
            "Model: \"sequential\"\n",
            "_________________________________________________________________\n",
            " Layer (type)                Output Shape              Param #   \n",
            "=================================================================\n",
            " conv2d (Conv2D)             (None, 254, 254, 16)      448       \n",
            "                                                                 \n",
            " max_pooling2d (MaxPooling2D  (None, 127, 127, 16)     0         \n",
            " )                                                               \n",
            "                                                                 \n",
            " conv2d_1 (Conv2D)           (None, 125, 125, 32)      4640      \n",
            "                                                                 \n",
            " max_pooling2d_1 (MaxPooling  (None, 62, 62, 32)       0         \n",
            " 2D)                                                             \n",
            "                                                                 \n",
            " conv2d_2 (Conv2D)           (None, 60, 60, 16)        4624      \n",
            "                                                                 \n",
            " max_pooling2d_2 (MaxPooling  (None, 30, 30, 16)       0         \n",
            " 2D)                                                             \n",
            "                                                                 \n",
            " flatten (Flatten)           (None, 14400)             0         \n",
            "                                                                 \n",
            " dense (Dense)               (None, 256)               3686656   \n",
            "                                                                 \n",
            " dense_1 (Dense)             (None, 10)                2570      \n",
            "                                                                 \n",
            "=================================================================\n",
            "Total params: 3,698,938\n",
            "Trainable params: 3,698,938\n",
            "Non-trainable params: 0\n",
            "_________________________________________________________________\n"
          ]
        }
      ],
      "source": [
        "from tensorflow.python.eager.monitoring import Metric\n",
        "from keras.api._v2.keras.losses import Loss\n",
        "\n",
        "model = Sequential()\n",
        "\n",
        "model.add(Conv2D(config.conv_1_no_filters, config.conv_1_filter_size, 1, activation=config.conv_activation_fn, input_shape=(256,256,3)))\n",
        "model.add(MaxPooling2D())\n",
        "model.add(Conv2D(config.conv_2_no_filters, config.conv_2_filter_size, 1, activation=config.conv_activation_fn))\n",
        "model.add(MaxPooling2D())\n",
        "model.add(Conv2D(config.conv_3_no_filters, config.conv_3_filter_size, 1, activation=config.conv_activation_fn))\n",
        "model.add(MaxPooling2D())\n",
        "model.add(Flatten())\n",
        "model.add(Dense(config.dense_1_no_neurons, activation=config.dense_1_activation_fn))\n",
        "model.add(Dense(config.dense_output_classes, activation=config.dense_output_activation_fn))\n",
        "\n",
        "model.compile(config.optimizer, loss=config.loss, metrics=[config.metric])\n",
        "\n",
        "model.summary()"
      ]
    },
    {
      "cell_type": "code",
      "execution_count": null,
      "metadata": {
        "id": "uVxYvEKnu1Dw"
      },
      "outputs": [],
      "source": [
        "# Add WandbMetricsLogger to log metrics and WandbModelCheckpoint to log model checkpoints\n",
        "wandb_callbacks = [\n",
        "        WandbMetricsLogger(),\n",
        "        WandbModelCheckpoint(filepath=\"Experiment_Teacher_Model{epoch:02d}\"),\n",
        "    ]"
      ]
    },
    {
      "cell_type": "code",
      "execution_count": null,
      "metadata": {
        "colab": {
          "base_uri": "https://localhost:8080/",
          "height": 506,
          "referenced_widgets": [
            "d2603184c7434cb5904f602752ad1c17",
            "63cd995531b841b19c37b727c3878fc8",
            "88f3a537bbbd43fb9a594cda348d9bed",
            "cb9a8c2ddeb44b7fb5ae6e346aa51346",
            "f5405ce7911042a8a2a5e0c1d3614c44",
            "293dcc66c2c74b6199f39cd9a73fef7e",
            "7e3cd5fb83c24d179d13951694deebb9",
            "685afb0f03244ccab300a8ebf7153170"
          ]
        },
        "id": "LZHIy_JGyzuV",
        "outputId": "ac9a7de5-656f-4890-9052-6ca06a9382df"
      },
      "outputs": [
        {
          "name": "stdout",
          "output_type": "stream",
          "text": [
            "Epoch 1/10\n",
            "22/22 [==============================] - 124s 6s/step - loss: 2.3621 - accuracy: 0.2472 - val_loss: 1.7434 - val_accuracy: 0.4531\n",
            "Epoch 2/10\n",
            "22/22 [==============================] - 52s 2s/step - loss: 1.3123 - accuracy: 0.5866 - val_loss: 1.1029 - val_accuracy: 0.6328\n",
            "Epoch 3/10\n",
            "22/22 [==============================] - 51s 2s/step - loss: 0.7446 - accuracy: 0.7869 - val_loss: 0.5942 - val_accuracy: 0.7734\n",
            "Epoch 4/10\n",
            "22/22 [==============================] - 52s 2s/step - loss: 0.3997 - accuracy: 0.8906 - val_loss: 0.2294 - val_accuracy: 0.9531\n",
            "Epoch 5/10\n",
            "22/22 [==============================] - 54s 2s/step - loss: 0.2023 - accuracy: 0.9474 - val_loss: 0.1301 - val_accuracy: 0.9766\n",
            "Epoch 6/10\n",
            "22/22 [==============================] - 51s 2s/step - loss: 0.0925 - accuracy: 0.9773 - val_loss: 0.0646 - val_accuracy: 0.9922\n",
            "Epoch 7/10\n",
            "22/22 [==============================] - 50s 2s/step - loss: 0.0750 - accuracy: 0.9801 - val_loss: 0.0594 - val_accuracy: 0.9844\n",
            "Epoch 8/10\n",
            "22/22 [==============================] - 51s 2s/step - loss: 0.0376 - accuracy: 0.9901 - val_loss: 0.0261 - val_accuracy: 1.0000\n",
            "Epoch 9/10\n",
            "22/22 [==============================] - 60s 3s/step - loss: 0.0175 - accuracy: 0.9986 - val_loss: 0.0288 - val_accuracy: 0.9922\n",
            "Epoch 10/10\n",
            "22/22 [==============================] - 52s 2s/step - loss: 0.0299 - accuracy: 0.9929 - val_loss: 0.0174 - val_accuracy: 1.0000\n"
          ]
        },
        {
          "data": {
            "text/html": [
              "Waiting for W&B process to finish... <strong style=\"color:green\">(success).</strong>"
            ],
            "text/plain": [
              "<IPython.core.display.HTML object>"
            ]
          },
          "metadata": {},
          "output_type": "display_data"
        },
        {
          "data": {
            "application/vnd.jupyter.widget-view+json": {
              "model_id": "d2603184c7434cb5904f602752ad1c17",
              "version_major": 2,
              "version_minor": 0
            },
            "text/plain": [
              "VBox(children=(Label(value='0.001 MB of 0.001 MB uploaded (0.000 MB deduped)\\r'), FloatProgress(value=1.0, max…"
            ]
          },
          "metadata": {},
          "output_type": "display_data"
        },
        {
          "data": {
            "text/html": [
              " View run <strong style=\"color:#cdcd00\">comic-elevator-2</strong> at: <a href='https://wandb.ai/zeinabghannam/Experiment_KD_2/runs/t5l77yqj' target=\"_blank\">https://wandb.ai/zeinabghannam/Experiment_KD_2/runs/t5l77yqj</a><br/>Synced 5 W&B file(s), 0 media file(s), 0 artifact file(s) and 0 other file(s)"
            ],
            "text/plain": [
              "<IPython.core.display.HTML object>"
            ]
          },
          "metadata": {},
          "output_type": "display_data"
        },
        {
          "data": {
            "text/html": [
              "Find logs at: <code>./wandb/run-20230824_133046-t5l77yqj/logs</code>"
            ],
            "text/plain": [
              "<IPython.core.display.HTML object>"
            ]
          },
          "metadata": {},
          "output_type": "display_data"
        }
      ],
      "source": [
        "hist = model.fit(train, batch_size=config.batch_size,epochs=config.epoch, validation_data=val)\n",
        "\n",
        "# Mark the run as finished\n",
        "wandb.finish()"
      ]
    },
    {
      "cell_type": "code",
      "execution_count": null,
      "metadata": {
        "colab": {
          "base_uri": "https://localhost:8080/",
          "height": 478
        },
        "id": "vUXsJyJvKlZg",
        "outputId": "af5671da-37fb-4f11-9355-6c2f07e7af75"
      },
      "outputs": [
        {
          "data": {
            "image/png": "[encoded data removed]",
            "text/plain": [
              "<Figure size 640x480 with 1 Axes>"
            ]
          },
          "metadata": {},
          "output_type": "display_data"
        }
      ],
      "source": [
        "### ------------------------\n",
        "fig = plt.figure()\n",
        "plt.plot(hist.history['loss'], color='teal', label='loss')\n",
        "plt.plot(hist.history['val_loss'], color='orange', label='val_loss')\n",
        "fig.suptitle('Loss', fontsize=20)\n",
        "plt.legend(loc=\"upper left\")\n",
        "plt.show()\n"
      ]
    },
    {
      "cell_type": "code",
      "execution_count": null,
      "metadata": {
        "colab": {
          "base_uri": "https://localhost:8080/",
          "height": 478
        },
        "id": "kT6JXNvxKwUn",
        "outputId": "aff45af0-dd7e-46b9-db5f-5c0e47e665a5"
      },
      "outputs": [
        {
          "data": {
            "image/png": "[encoded data removed]",
            "text/plain": [
              "<Figure size 640x480 with 1 Axes>"
            ]
          },
          "metadata": {},
          "output_type": "display_data"
        }
      ],
      "source": [
        "fig = plt.figure()\n",
        "plt.plot(hist.history['accuracy'], color='teal', label='accuracy')\n",
        "plt.plot(hist.history['val_accuracy'], color='orange', label='val_accuracy')\n",
        "fig.suptitle('Accuracy', fontsize=20)\n",
        "plt.legend(loc=\"upper left\")\n",
        "plt.show()"
      ]
    },
    {
      "cell_type": "code",
      "execution_count": null,
      "metadata": {
        "id": "roLFWWjmMHfe"
      },
      "outputs": [],
      "source": [
        "pre = Precision()\n",
        "re = Recall()\n",
        "acc = CategoricalAccuracy()"
      ]
    },
    {
      "cell_type": "code",
      "execution_count": null,
      "metadata": {
        "colab": {
          "base_uri": "https://localhost:8080/"
        },
        "id": "qSR0GaWBMaM9",
        "outputId": "91ca8059-d28b-457e-be3f-e3b0b82836b1"
      },
      "outputs": [
        {
          "name": "stdout",
          "output_type": "stream",
          "text": [
            "1/1 [==============================] - 1s 710ms/step\n",
            "1/1 [==============================] - 1s 796ms/step\n",
            "1/1 [==============================] - 1s 574ms/step\n",
            "1/1 [==============================] - 1s 572ms/step\n"
          ]
        }
      ],
      "source": [
        "for batch in test.as_numpy_iterator():\n",
        "    X, y = batch\n",
        "    #yhat = model.predict(X)\n",
        "    y_pred = model.predict(X)\n",
        "\n",
        "    yhat = tf.argmax(y_pred, axis=1)\n",
        "\n",
        "    pre.update_state(y, yhat)\n",
        "    re.update_state(y, yhat)\n",
        "    acc.update_state(y, yhat)"
      ]
    },
    {
      "cell_type": "code",
      "execution_count": null,
      "metadata": {
        "colab": {
          "base_uri": "https://localhost:8080/"
        },
        "id": "7guAAs9yMs_l",
        "outputId": "f5f61d89-a8df-4758-9b89-9080a5c51f5e"
      },
      "outputs": [
        {
          "name": "stdout",
          "output_type": "stream",
          "text": [
            "precision:  tf.Tensor(1.0, shape=(), dtype=float32)\n",
            "recall:  tf.Tensor(1.0, shape=(), dtype=float32)\n",
            "accuracy:  tf.Tensor(1.0, shape=(), dtype=float32)\n"
          ]
        }
      ],
      "source": [
        "print(\"precision: \", pre.result())\n",
        "print( \"recall: \", re.result() )\n",
        "print(\"accuracy: \", acc.result())\n"
      ]
    },
    {
      "cell_type": "markdown",
      "metadata": {
        "id": "Zd7hAvWNLB9g"
      },
      "source": [
        "## Construct `Distiller()` class that inherits Model class:\n"
      ]
    },
    {
      "cell_type": "code",
      "execution_count": null,
      "metadata": {
        "id": "Jxg7IWuJLB9g"
      },
      "outputs": [],
      "source": [
        "\n",
        "class Distiller(keras.Model):\n",
        "    def __init__(self, student, teacher):\n",
        "        super(Distiller, self).__init__()\n",
        "        self.teacher = teacher\n",
        "        self.student = student\n",
        "\n",
        "    def compile(\n",
        "        self,\n",
        "        optimizer,\n",
        "        metrics,\n",
        "        student_loss_fn,\n",
        "        distillation_loss_fn,\n",
        "        alpha=0.1,\n",
        "        temperature=3,\n",
        "    ):\n",
        "        super(Distiller, self).compile(optimizer=optimizer, metrics=metrics)\n",
        "        self.student_loss_fn = student_loss_fn\n",
        "        self.distillation_loss_fn = distillation_loss_fn\n",
        "        self.alpha = alpha\n",
        "        self.temperature = temperature\n",
        "\n",
        "    def train_step(self, data):\n",
        "        # Unpack data\n",
        "        x, y = data\n",
        "\n",
        "        # Forward pass of teacher\n",
        "        teacher_predictions = self.teacher(x, training=False)\n",
        "\n",
        "        with tf.GradientTape() as tape:\n",
        "            # Forward pass of student\n",
        "            student_predictions = self.student(x, training=True)\n",
        "\n",
        "            # Compute losses\n",
        "            student_loss = self.student_loss_fn(y, student_predictions)\n",
        "            distillation_loss = self.distillation_loss_fn(\n",
        "                tf.nn.softmax(teacher_predictions / self.temperature, axis=1),\n",
        "                tf.nn.softmax(student_predictions / self.temperature, axis=1),\n",
        "            )\n",
        "            loss = self.alpha * student_loss + (1 - self.alpha) * distillation_loss\n",
        "\n",
        "        # Compute gradients\n",
        "        trainable_vars = self.student.trainable_variables\n",
        "        gradients = tape.gradient(loss, trainable_vars)\n",
        "\n",
        "        # Update weights\n",
        "        self.optimizer.apply_gradients(zip(gradients, trainable_vars))\n",
        "\n",
        "        # Update the metrics configured in `compile()`.\n",
        "        self.compiled_metrics.update_state(y, student_predictions)\n",
        "\n",
        "        # Return a dict of performance\n",
        "        results = {m.name: m.result() for m in self.metrics}\n",
        "        results.update(\n",
        "            {\"student_loss\": student_loss, \"distillation_loss\": distillation_loss}\n",
        "        )\n",
        "        return results\n",
        "\n",
        "    def test_step(self, data):\n",
        "        # Unpack the data\n",
        "        x, y = data\n",
        "\n",
        "        # Compute predictions\n",
        "        y_prediction = self.student(x, training=False)\n",
        "\n",
        "        # Calculate the loss\n",
        "        student_loss = self.student_loss_fn(y, y_prediction)\n",
        "\n",
        "        # Update the metrics.\n",
        "        self.compiled_metrics.update_state(y, y_prediction)\n",
        "\n",
        "        # Return a dict of performance\n",
        "        results = {m.name: m.result() for m in self.metrics}\n",
        "        results.update({\"student_loss\": student_loss})\n",
        "        return results\n"
      ]
    },
    {
      "cell_type": "markdown",
      "metadata": {
        "id": "-5ABGy1mLB9h"
      },
      "source": [
        "### Create the student model\n",
        "### teacher model has been created and trainined above.\n"
      ]
    },
    {
      "cell_type": "code",
      "execution_count": null,
      "metadata": {
        "id": "v3LZPDzqChcW"
      },
      "outputs": [],
      "source": [
        "#  teacher model:\n",
        "teacher = model"
      ]
    },
    {
      "cell_type": "code",
      "execution_count": null,
      "metadata": {
        "id": "E3nCUjusLB9i"
      },
      "outputs": [],
      "source": [
        "student = Sequential()\n",
        "\n",
        "student.add(Conv2D(8, config.conv_1_filter_size, 1, activation=config.conv_activation_fn, input_shape=(256,256,3)))\n",
        "student.add(MaxPooling2D())\n",
        "student.add(Conv2D(16, config.conv_2_filter_size, 1, activation=config.conv_activation_fn))\n",
        "student.add(MaxPooling2D())\n",
        "student.add(Conv2D(8, config.conv_3_filter_size, 1, activation=config.conv_activation_fn))\n",
        "student.add(MaxPooling2D())\n",
        "student.add(Flatten())\n",
        "\n",
        "student.add(Dense(32, activation=config.dense_1_activation_fn))\n",
        "student.add(Dense(config.dense_output_classes))\n"
      ]
    },
    {
      "cell_type": "markdown",
      "metadata": {
        "id": "rlsTT41HKgRr"
      },
      "source": [
        "### scratch_student model, for comparison with the distilled student model."
      ]
    },
    {
      "cell_type": "code",
      "execution_count": null,
      "metadata": {
        "id": "qS42LtDlJAjt"
      },
      "outputs": [],
      "source": [
        "scratch_student = Sequential()\n",
        "\n",
        "scratch_student.add(Conv2D(8, config.conv_1_filter_size, 1, activation=config.conv_activation_fn, input_shape=(256,256,3)))\n",
        "scratch_student.add(MaxPooling2D())\n",
        "scratch_student.add(Conv2D(16, config.conv_2_filter_size, 1, activation=config.conv_activation_fn))\n",
        "scratch_student.add(MaxPooling2D())\n",
        "scratch_student.add(Conv2D(8, config.conv_3_filter_size, 1, activation=config.conv_activation_fn))\n",
        "scratch_student.add(MaxPooling2D())\n",
        "scratch_student.add(Flatten())\n",
        "\n",
        "scratch_student.add(Dense(32, activation=config.dense_1_activation_fn))\n",
        "scratch_student.add(Dense(config.dense_output_classes))\n"
      ]
    },
    {
      "cell_type": "code",
      "execution_count": null,
      "metadata": {
        "colab": {
          "base_uri": "https://localhost:8080/"
        },
        "id": "HY1UzO-XP0Y7",
        "outputId": "a87a03e3-2633-4593-bbdc-3bbf414d528c"
      },
      "outputs": [
        {
          "name": "stdout",
          "output_type": "stream",
          "text": [
            "Model: \"sequential\"\n",
            "_________________________________________________________________\n",
            " Layer (type)                Output Shape              Param #   \n",
            "=================================================================\n",
            " conv2d (Conv2D)             (None, 254, 254, 16)      448       \n",
            "                                                                 \n",
            " max_pooling2d (MaxPooling2D  (None, 127, 127, 16)     0         \n",
            " )                                                               \n",
            "                                                                 \n",
            " conv2d_1 (Conv2D)           (None, 125, 125, 32)      4640      \n",
            "                                                                 \n",
            " max_pooling2d_1 (MaxPooling  (None, 62, 62, 32)       0         \n",
            " 2D)                                                             \n",
            "                                                                 \n",
            " conv2d_2 (Conv2D)           (None, 60, 60, 16)        4624      \n",
            "                                                                 \n",
            " max_pooling2d_2 (MaxPooling  (None, 30, 30, 16)       0         \n",
            " 2D)                                                             \n",
            "                                                                 \n",
            " flatten (Flatten)           (None, 14400)             0         \n",
            "                                                                 \n",
            " dense (Dense)               (None, 256)               3686656   \n",
            "                                                                 \n",
            " dense_1 (Dense)             (None, 10)                2570      \n",
            "                                                                 \n",
            "=================================================================\n",
            "Total params: 3,698,938\n",
            "Trainable params: 3,698,938\n",
            "Non-trainable params: 0\n",
            "_________________________________________________________________\n"
          ]
        }
      ],
      "source": [
        "teacher.summary()"
      ]
    },
    {
      "cell_type": "code",
      "execution_count": null,
      "metadata": {
        "colab": {
          "base_uri": "https://localhost:8080/"
        },
        "id": "P_7nilDoP3vw",
        "outputId": "ec98f80b-b841-4b29-c183-0be7dddbae2a"
      },
      "outputs": [
        {
          "name": "stdout",
          "output_type": "stream",
          "text": [
            "Model: \"sequential_1\"\n",
            "_________________________________________________________________\n",
            " Layer (type)                Output Shape              Param #   \n",
            "=================================================================\n",
            " conv2d_7 (Conv2D)           (None, 254, 254, 8)       224       \n",
            "                                                                 \n",
            " max_pooling2d_5 (MaxPooling  (None, 127, 127, 8)      0         \n",
            " 2D)                                                             \n",
            "                                                                 \n",
            " conv2d_8 (Conv2D)           (None, 125, 125, 16)      1168      \n",
            "                                                                 \n",
            " max_pooling2d_6 (MaxPooling  (None, 62, 62, 16)       0         \n",
            " 2D)                                                             \n",
            "                                                                 \n",
            " conv2d_9 (Conv2D)           (None, 60, 60, 8)         1160      \n",
            "                                                                 \n",
            " max_pooling2d_7 (MaxPooling  (None, 30, 30, 8)        0         \n",
            " 2D)                                                             \n",
            "                                                                 \n",
            " flatten_3 (Flatten)         (None, 7200)              0         \n",
            "                                                                 \n",
            " dense_4 (Dense)             (None, 32)                230432    \n",
            "                                                                 \n",
            " dense_5 (Dense)             (None, 10)                330       \n",
            "                                                                 \n",
            "=================================================================\n",
            "Total params: 233,314\n",
            "Trainable params: 233,314\n",
            "Non-trainable params: 0\n",
            "_________________________________________________________________\n"
          ]
        }
      ],
      "source": [
        "student.summary()"
      ]
    },
    {
      "cell_type": "code",
      "execution_count": null,
      "metadata": {
        "colab": {
          "base_uri": "https://localhost:8080/"
        },
        "id": "mHQBpaflxQcc",
        "outputId": "9d262e6e-9db2-48ca-fe35-aca6cb34c397"
      },
      "outputs": [
        {
          "name": "stdout",
          "output_type": "stream",
          "text": [
            "Model: \"sequential_2\"\n",
            "_________________________________________________________________\n",
            " Layer (type)                Output Shape              Param #   \n",
            "=================================================================\n",
            " conv2d_10 (Conv2D)          (None, 254, 254, 8)       224       \n",
            "                                                                 \n",
            " max_pooling2d_8 (MaxPooling  (None, 127, 127, 8)      0         \n",
            " 2D)                                                             \n",
            "                                                                 \n",
            " conv2d_11 (Conv2D)          (None, 125, 125, 16)      1168      \n",
            "                                                                 \n",
            " max_pooling2d_9 (MaxPooling  (None, 62, 62, 16)       0         \n",
            " 2D)                                                             \n",
            "                                                                 \n",
            " conv2d_12 (Conv2D)          (None, 60, 60, 8)         1160      \n",
            "                                                                 \n",
            " max_pooling2d_10 (MaxPoolin  (None, 30, 30, 8)        0         \n",
            " g2D)                                                            \n",
            "                                                                 \n",
            " flatten_4 (Flatten)         (None, 7200)              0         \n",
            "                                                                 \n",
            " dense_6 (Dense)             (None, 32)                230432    \n",
            "                                                                 \n",
            " dense_7 (Dense)             (None, 10)                330       \n",
            "                                                                 \n",
            "=================================================================\n",
            "Total params: 233,314\n",
            "Trainable params: 233,314\n",
            "Non-trainable params: 0\n",
            "_________________________________________________________________\n"
          ]
        }
      ],
      "source": [
        "scratch_student.summary()"
      ]
    },
    {
      "cell_type": "markdown",
      "metadata": {
        "id": "0JyT3gmOLB9j"
      },
      "source": [
        "## Prepare the dataset\n",
        "\n",
        "The dataset used for training the teacher and distilling the teacher is\n",
        "[MNIST](https://keras.io/api/datasets/mnist/), and the procedure would be equivalent for any other\n",
        "dataset, e.g. [CIFAR-10](https://keras.io/api/datasets/cifar10/), with a suitable choice\n",
        "of models. Both the student and teacher are trained on the training set and evaluated on\n",
        "the test set."
      ]
    },
    {
      "cell_type": "code",
      "execution_count": null,
      "metadata": {
        "id": "_rfIdaldLB9j"
      },
      "outputs": [],
      "source": [
        "\n",
        "\n",
        "\n"
      ]
    },
    {
      "cell_type": "markdown",
      "metadata": {
        "id": "T013L-f7LB9k"
      },
      "source": [
        "## Train the teacher\n",
        "\n",
        "In knowledge distillation we assume that the teacher is trained and fixed. Thus, we start\n",
        "by training the teacher model on the training set in the usual way."
      ]
    },
    {
      "cell_type": "markdown",
      "metadata": {
        "id": "p9LH6r81LB9k"
      },
      "source": [
        "## Distill teacher to student\n",
        "\n",
        "We have already trained the teacher model, and we only need to initialize a\n",
        "`Distiller(student, teacher)` instance, `compile()` it with the desired losses,\n",
        "hyperparameters and optimizer, and distill the teacher to the student."
      ]
    },
    {
      "cell_type": "code",
      "execution_count": null,
      "metadata": {
        "colab": {
          "base_uri": "https://localhost:8080/"
        },
        "id": "4r3lsaYiLB9l",
        "outputId": "b0f63900-20b7-425c-fd10-cf7b9d47edcb"
      },
      "outputs": [
        {
          "name": "stdout",
          "output_type": "stream",
          "text": [
            "Epoch 1/10\n",
            "22/22 [==============================] - 52s 2s/step - sparse_categorical_accuracy: 0.2628 - student_loss: 2.0680 - distillation_loss: 9.0453e-05 - val_sparse_categorical_accuracy: 0.3359 - val_student_loss: 1.9474\n",
            "Epoch 2/10\n",
            "22/22 [==============================] - 52s 2s/step - sparse_categorical_accuracy: 0.5114 - student_loss: 1.4013 - distillation_loss: 6.3095e-04 - val_sparse_categorical_accuracy: 0.5234 - val_student_loss: 1.3630\n",
            "Epoch 3/10\n",
            "22/22 [==============================] - 52s 2s/step - sparse_categorical_accuracy: 0.7145 - student_loss: 0.9315 - distillation_loss: 0.0016 - val_sparse_categorical_accuracy: 0.7734 - val_student_loss: 0.6622\n",
            "Epoch 4/10\n",
            "22/22 [==============================] - 48s 2s/step - sparse_categorical_accuracy: 0.8452 - student_loss: 0.5571 - distillation_loss: 0.0028 - val_sparse_categorical_accuracy: 0.8281 - val_student_loss: 0.5644\n",
            "Epoch 5/10\n",
            "22/22 [==============================] - 49s 2s/step - sparse_categorical_accuracy: 0.9134 - student_loss: 0.3492 - distillation_loss: 0.0036 - val_sparse_categorical_accuracy: 0.9141 - val_student_loss: 0.3576\n",
            "Epoch 6/10\n",
            "22/22 [==============================] - 49s 2s/step - sparse_categorical_accuracy: 0.9503 - student_loss: 0.2308 - distillation_loss: 0.0043 - val_sparse_categorical_accuracy: 0.9609 - val_student_loss: 0.1959\n",
            "Epoch 7/10\n",
            "22/22 [==============================] - 49s 2s/step - sparse_categorical_accuracy: 0.9702 - student_loss: 0.1498 - distillation_loss: 0.0051 - val_sparse_categorical_accuracy: 0.9453 - val_student_loss: 0.2362\n",
            "Epoch 8/10\n",
            "22/22 [==============================] - 49s 2s/step - sparse_categorical_accuracy: 0.9844 - student_loss: 0.1197 - distillation_loss: 0.0048 - val_sparse_categorical_accuracy: 0.9766 - val_student_loss: 0.1777\n",
            "Epoch 9/10\n",
            "22/22 [==============================] - 50s 2s/step - sparse_categorical_accuracy: 0.9901 - student_loss: 0.0818 - distillation_loss: 0.0049 - val_sparse_categorical_accuracy: 0.9844 - val_student_loss: 0.0600\n",
            "Epoch 10/10\n",
            "22/22 [==============================] - 49s 2s/step - sparse_categorical_accuracy: 0.9886 - student_loss: 0.0635 - distillation_loss: 0.0047 - val_sparse_categorical_accuracy: 0.9922 - val_student_loss: 0.0832\n"
          ]
        },
        {
          "data": {
            "text/plain": [
              "<keras.callbacks.History at 0x7be1c8470850>"
            ]
          },
          "execution_count": 36,
          "metadata": {},
          "output_type": "execute_result"
        }
      ],
      "source": [
        "# Initialize and compile distiller\n",
        "distiller = Distiller(student=student, teacher=teacher)\n",
        "\n",
        "distiller.compile(\n",
        "    optimizer=keras.optimizers.Adam(),\n",
        "    metrics=[keras.metrics.SparseCategoricalAccuracy()],\n",
        "    student_loss_fn=keras.losses.SparseCategoricalCrossentropy(from_logits=True),\n",
        "    distillation_loss_fn=keras.losses.KLDivergence(),\n",
        "    alpha=0.1,\n",
        "    temperature=40,\n",
        ")\n",
        "\n",
        "# Distill teacher to student\n",
        "distiller.fit(train, batch_size=config.batch_size,epochs=config.epoch, validation_data=val)\n",
        "\n"
      ]
    },
    {
      "cell_type": "markdown",
      "metadata": {
        "id": "-KMAAbIfLB9l"
      },
      "source": [
        "## Train student from scratch for comparison\n",
        "\n",
        "We can also train an equivalent student model from scratch without the teacher, in order\n",
        "to evaluate the performance gain obtained by knowledge distillation."
      ]
    },
    {
      "cell_type": "code",
      "execution_count": null,
      "metadata": {
        "colab": {
          "base_uri": "https://localhost:8080/"
        },
        "id": "-b77WIjOLB9m",
        "outputId": "f849f50e-8a1e-4ea0-9f2e-cb4a940e84d4"
      },
      "outputs": [
        {
          "name": "stdout",
          "output_type": "stream",
          "text": [
            "Epoch 1/10\n",
            "22/22 [==============================] - 32s 1s/step - loss: 8.1608 - accuracy: 0.1506 - val_loss: 4.5631 - val_accuracy: 0.2422\n",
            "Epoch 2/10\n",
            "22/22 [==============================] - 32s 1s/step - loss: 2.8621 - accuracy: 0.2585 - val_loss: 2.7250 - val_accuracy: 0.1953\n",
            "Epoch 3/10\n",
            "22/22 [==============================] - 31s 1s/step - loss: 2.4140 - accuracy: 0.2188 - val_loss: 2.2346 - val_accuracy: 0.2031\n",
            "Epoch 4/10\n",
            "22/22 [==============================] - 33s 2s/step - loss: 2.2192 - accuracy: 0.2259 - val_loss: 2.3026 - val_accuracy: 0.1875\n",
            "Epoch 5/10\n",
            "22/22 [==============================] - 33s 1s/step - loss: 2.2675 - accuracy: 0.2003 - val_loss: 2.2846 - val_accuracy: 0.1719\n",
            "Epoch 6/10\n",
            "22/22 [==============================] - 31s 1s/step - loss: 2.2738 - accuracy: 0.1989 - val_loss: 2.3026 - val_accuracy: 0.1719\n",
            "Epoch 7/10\n",
            "22/22 [==============================] - 33s 2s/step - loss: 2.2737 - accuracy: 0.1918 - val_loss: 2.3026 - val_accuracy: 0.1641\n",
            "Epoch 8/10\n",
            "22/22 [==============================] - 32s 1s/step - loss: 2.2669 - accuracy: 0.1960 - val_loss: 2.3026 - val_accuracy: 0.1719\n",
            "Epoch 9/10\n",
            "22/22 [==============================] - 33s 1s/step - loss: 2.2701 - accuracy: 0.2074 - val_loss: 2.2846 - val_accuracy: 0.1875\n",
            "Epoch 10/10\n",
            "22/22 [==============================] - 31s 1s/step - loss: 2.2732 - accuracy: 0.1960 - val_loss: 2.2846 - val_accuracy: 0.1875\n"
          ]
        },
        {
          "data": {
            "text/plain": [
              "<keras.callbacks.History at 0x7be1e2a45660>"
            ]
          },
          "execution_count": 37,
          "metadata": {},
          "output_type": "execute_result"
        }
      ],
      "source": [
        "# Train student as done usually\n",
        "scratch_student.compile(config.optimizer, loss=config.loss, metrics=[config.metric])\n",
        "\n",
        "# Train and evaluate student trained from scratch.\n",
        "scratch_student.fit(train, batch_size=config.batch_size,epochs=config.epoch, validation_data=val)"
      ]
    },
    {
      "cell_type": "code",
      "execution_count": null,
      "metadata": {
        "colab": {
          "base_uri": "https://localhost:8080/"
        },
        "id": "r6Mt1s0CHS4E",
        "outputId": "c5aa114f-42c5-4c4f-8289-7de701de77d1"
      },
      "outputs": [
        {
          "name": "stdout",
          "output_type": "stream",
          "text": [
            "Mounted at /content/drive\n"
          ]
        }
      ],
      "source": [
        "from google.colab import drive\n",
        "drive.mount('/content/drive', force_remount=True)"
      ]
    },
    {
      "cell_type": "code",
      "execution_count": null,
      "metadata": {
        "id": "8msxBVBaENpL"
      },
      "outputs": [],
      "source": [
        "def save_keras_model(ml_model, filename):\n",
        "    save_path = f\"/content/drive/MyDrive/datasets_colab/models/{filename}\"\n",
        "    ml_model.save(filename + '.h5')\n",
        "    print(f\"Model saved to {filename}.h5\")\n"
      ]
    },
    {
      "cell_type": "code",
      "execution_count": null,
      "metadata": {
        "colab": {
          "base_uri": "https://localhost:8080/"
        },
        "id": "kirYsU6xFoXl",
        "outputId": "2b348308-6353-4009-bbbf-fb1509b03e16"
      },
      "outputs": [
        {
          "name": "stdout",
          "output_type": "stream",
          "text": [
            "Model saved to teacher_model.h5\n"
          ]
        }
      ],
      "source": [
        "save_keras_model(teacher, 'teacher_model')"
      ]
    },
    {
      "cell_type": "code",
      "execution_count": null,
      "metadata": {
        "colab": {
          "base_uri": "https://localhost:8080/"
        },
        "id": "SpZ6Uc5oGd5_",
        "outputId": "d95cae6a-16db-4dd9-98da-0d10e47a148a"
      },
      "outputs": [
        {
          "name": "stderr",
          "output_type": "stream",
          "text": [
            "WARNING:tensorflow:Compiled the loaded model, but the compiled metrics have yet to be built. `model.compile_metrics` will be empty until you train or evaluate the model.\n"
          ]
        },
        {
          "name": "stdout",
          "output_type": "stream",
          "text": [
            "Model saved to distilled_student_model.h5\n"
          ]
        }
      ],
      "source": [
        "save_keras_model(student, 'distilled_student_model')"
      ]
    },
    {
      "cell_type": "code",
      "execution_count": null,
      "metadata": {
        "colab": {
          "base_uri": "https://localhost:8080/"
        },
        "id": "StJa45IWGeSC",
        "outputId": "c8c0cac6-a8fb-4f60-d0f9-91ced2da7bb7"
      },
      "outputs": [
        {
          "name": "stdout",
          "output_type": "stream",
          "text": [
            "Model saved to scratch_student_model.h5\n"
          ]
        }
      ],
      "source": [
        "save_keras_model(scratch_student, 'scratch_student_model')"
      ]
    },
    {
      "cell_type": "markdown",
      "metadata": {
        "id": "xsGB1j5BLB9m"
      },
      "source": [
        "## Measuring the number of parameters, memory and computation, and making comparison."
      ]
    },
    {
      "cell_type": "code",
      "execution_count": null,
      "metadata": {
        "colab": {
          "base_uri": "https://localhost:8080/"
        },
        "id": "TYitt_tK48Wu",
        "outputId": "ce7279ce-8a4e-4e8a-f75f-5fd099f99600"
      },
      "outputs": [
        {
          "name": "stdout",
          "output_type": "stream",
          "text": [
            "teacher # parameters:  3698938\n",
            "distilled # parameters:  233314\n",
            "scratch student # parameters:  233314\n"
          ]
        }
      ],
      "source": [
        "## document the result\n",
        "print(\"teacher # parameters: \",teacher.count_params())\n",
        "print(\"distilled # parameters: \",student.count_params())\n",
        "print(\"scratch student # parameters: \",scratch_student.count_params())"
      ]
    },
    {
      "cell_type": "code",
      "execution_count": null,
      "metadata": {
        "id": "7secLWx2DI71"
      },
      "outputs": [],
      "source": [
        "def bytes_to_readable(size):\n",
        "    \"\"\"Convert size in bytes to a human-readable format.\"\"\"\n",
        "    # Define the order of magnitude and the respective units\n",
        "    powers = {'B': 0, 'KB': 1, 'MB': 2, 'GB': 3, 'TB': 4}\n",
        "    unit = 'B'\n",
        "    for key in powers:\n",
        "        if size < 1024:\n",
        "            unit = key\n",
        "            break\n",
        "        size /= 1024.0\n",
        "\n",
        "    return f\"{size:.2f} {unit}\""
      ]
    },
    {
      "cell_type": "code",
      "execution_count": null,
      "metadata": {
        "id": "MHgH3_uD9dPZ"
      },
      "outputs": [],
      "source": [
        "def calculate_memory_size(model):\n",
        "    # Sample a weight tensor to get its dtype\n",
        "    sample_weight = model.trainable_weights[0]\n",
        "\n",
        "    # Determine bytes per parameter based on dtype\n",
        "    if sample_weight.dtype == tf.float32:\n",
        "        dtype_size = 4\n",
        "    elif sample_weight.dtype == tf.float16:\n",
        "        dtype_size = 2\n",
        "    elif sample_weight.dtype == tf.float64:\n",
        "        dtype_size = 8\n",
        "    # Add other dtypes as needed\n",
        "    else:\n",
        "        raise ValueError(f\"Unsupported dtype: {sample_weight.dtype}\")\n",
        "\n",
        "    total_parameters = model.count_params()\n",
        "    memory_in_bytes = total_parameters * dtype_size\n",
        "    return memory_in_bytes\n"
      ]
    },
    {
      "cell_type": "code",
      "execution_count": null,
      "metadata": {
        "colab": {
          "base_uri": "https://localhost:8080/"
        },
        "id": "pwPRdr6JAR_O",
        "outputId": "96b34f34-2fc4-4bb7-d163-dc9c602f0e2e"
      },
      "outputs": [
        {
          "name": "stdout",
          "output_type": "stream",
          "text": [
            "memory size of trainable parameters\n",
            "teacher:  14.11 MB\n",
            "distilled :  911.38 KB\n",
            "scratch student:  911.38 KB\n"
          ]
        }
      ],
      "source": [
        "print('memory size of trainable parameters')\n",
        "\n",
        "print(\"teacher: \", bytes_to_readable(calculate_memory_size(teacher)))\n",
        "print(\"distilled : \", bytes_to_readable(calculate_memory_size(student)))\n",
        "print(\"scratch student: \", bytes_to_readable(calculate_memory_size(scratch_student)))"
      ]
    }
  ],
  "metadata": {
    "colab": {
      "provenance": [],
      "include_colab_link": true
    },
    "kernelspec": {
      "display_name": "Python 3",
      "language": "python",
      "name": "python3"
    },
    "language_info": {
      "codemirror_mode": {
        "name": "ipython",
        "version": 3
      },
      "file_extension": ".py",
      "mimetype": "text/x-python",
      "name": "python",
      "nbconvert_exporter": "python",
      "pygments_lexer": "ipython3",
      "version": "3.8.3"
    },
    "widgets": {
      "application/vnd.jupyter.widget-state+json": {
        "11f80b04a750463bb8b5298281867d33": {
          "model_module": "@jupyter-widgets/controls",
          "model_module_version": "1.5.0",
          "model_name": "FloatProgressModel",
          "state": {
            "_dom_classes": [],
            "_model_module": "@jupyter-widgets/controls",
            "_model_module_version": "1.5.0",
            "_model_name": "FloatProgressModel",
            "_view_count": null,
            "_view_module": "@jupyter-widgets/controls",
            "_view_module_version": "1.5.0",
            "_view_name": "ProgressView",
            "bar_style": "",
            "description": "",
            "description_tooltip": null,
            "layout": "IPY_MODEL_31c481c634d24d139ae87cd5d7279ae8",
            "max": 1,
            "min": 0,
            "orientation": "horizontal",
            "style": "IPY_MODEL_610d2152477141f2b99f8a461c3428f3",
            "value": 1
          }
        },
        "280d232a5f634900a1fb9f928282edf4": {
          "model_module": "@jupyter-widgets/base",
          "model_module_version": "1.2.0",
          "model_name": "LayoutModel",
          "state": {
            "_model_module": "@jupyter-widgets/base",
            "_model_module_version": "1.2.0",
            "_model_name": "LayoutModel",
            "_view_count": null,
            "_view_module": "@jupyter-widgets/base",
            "_view_module_version": "1.2.0",
            "_view_name": "LayoutView",
            "align_content": null,
            "align_items": null,
            "align_self": null,
            "border": null,
            "bottom": null,
            "display": null,
            "flex": null,
            "flex_flow": null,
            "grid_area": null,
            "grid_auto_columns": null,
            "grid_auto_flow": null,
            "grid_auto_rows": null,
            "grid_column": null,
            "grid_gap": null,
            "grid_row": null,
            "grid_template_areas": null,
            "grid_template_columns": null,
            "grid_template_rows": null,
            "height": null,
            "justify_content": null,
            "justify_items": null,
            "left": null,
            "margin": null,
            "max_height": null,
            "max_width": null,
            "min_height": null,
            "min_width": null,
            "object_fit": null,
            "object_position": null,
            "order": null,
            "overflow": null,
            "overflow_x": null,
            "overflow_y": null,
            "padding": null,
            "right": null,
            "top": null,
            "visibility": null,
            "width": null
          }
        },
        "293dcc66c2c74b6199f39cd9a73fef7e": {
          "model_module": "@jupyter-widgets/controls",
          "model_module_version": "1.5.0",
          "model_name": "DescriptionStyleModel",
          "state": {
            "_model_module": "@jupyter-widgets/controls",
            "_model_module_version": "1.5.0",
            "_model_name": "DescriptionStyleModel",
            "_view_count": null,
            "_view_module": "@jupyter-widgets/base",
            "_view_module_version": "1.2.0",
            "_view_name": "StyleView",
            "description_width": ""
          }
        },
        "31c481c634d24d139ae87cd5d7279ae8": {
          "model_module": "@jupyter-widgets/base",
          "model_module_version": "1.2.0",
          "model_name": "LayoutModel",
          "state": {
            "_model_module": "@jupyter-widgets/base",
            "_model_module_version": "1.2.0",
            "_model_name": "LayoutModel",
            "_view_count": null,
            "_view_module": "@jupyter-widgets/base",
            "_view_module_version": "1.2.0",
            "_view_name": "LayoutView",
            "align_content": null,
            "align_items": null,
            "align_self": null,
            "border": null,
            "bottom": null,
            "display": null,
            "flex": null,
            "flex_flow": null,
            "grid_area": null,
            "grid_auto_columns": null,
            "grid_auto_flow": null,
            "grid_auto_rows": null,
            "grid_column": null,
            "grid_gap": null,
            "grid_row": null,
            "grid_template_areas": null,
            "grid_template_columns": null,
            "grid_template_rows": null,
            "height": null,
            "justify_content": null,
            "justify_items": null,
            "left": null,
            "margin": null,
            "max_height": null,
            "max_width": null,
            "min_height": null,
            "min_width": null,
            "object_fit": null,
            "object_position": null,
            "order": null,
            "overflow": null,
            "overflow_x": null,
            "overflow_y": null,
            "padding": null,
            "right": null,
            "top": null,
            "visibility": null,
            "width": null
          }
        },
        "610d2152477141f2b99f8a461c3428f3": {
          "model_module": "@jupyter-widgets/controls",
          "model_module_version": "1.5.0",
          "model_name": "ProgressStyleModel",
          "state": {
            "_model_module": "@jupyter-widgets/controls",
            "_model_module_version": "1.5.0",
            "_model_name": "ProgressStyleModel",
            "_view_count": null,
            "_view_module": "@jupyter-widgets/base",
            "_view_module_version": "1.2.0",
            "_view_name": "StyleView",
            "bar_color": null,
            "description_width": ""
          }
        },
        "63cd995531b841b19c37b727c3878fc8": {
          "model_module": "@jupyter-widgets/controls",
          "model_module_version": "1.5.0",
          "model_name": "LabelModel",
          "state": {
            "_dom_classes": [],
            "_model_module": "@jupyter-widgets/controls",
            "_model_module_version": "1.5.0",
            "_model_name": "LabelModel",
            "_view_count": null,
            "_view_module": "@jupyter-widgets/controls",
            "_view_module_version": "1.5.0",
            "_view_name": "LabelView",
            "description": "",
            "description_tooltip": null,
            "layout": "IPY_MODEL_f5405ce7911042a8a2a5e0c1d3614c44",
            "placeholder": "​",
            "style": "IPY_MODEL_293dcc66c2c74b6199f39cd9a73fef7e",
            "value": "0.011 MB of 0.013 MB uploaded (0.000 MB deduped)\r"
          }
        },
        "685afb0f03244ccab300a8ebf7153170": {
          "model_module": "@jupyter-widgets/controls",
          "model_module_version": "1.5.0",
          "model_name": "ProgressStyleModel",
          "state": {
            "_model_module": "@jupyter-widgets/controls",
            "_model_module_version": "1.5.0",
            "_model_name": "ProgressStyleModel",
            "_view_count": null,
            "_view_module": "@jupyter-widgets/base",
            "_view_module_version": "1.2.0",
            "_view_name": "StyleView",
            "bar_color": null,
            "description_width": ""
          }
        },
        "7e3cd5fb83c24d179d13951694deebb9": {
          "model_module": "@jupyter-widgets/base",
          "model_module_version": "1.2.0",
          "model_name": "LayoutModel",
          "state": {
            "_model_module": "@jupyter-widgets/base",
            "_model_module_version": "1.2.0",
            "_model_name": "LayoutModel",
            "_view_count": null,
            "_view_module": "@jupyter-widgets/base",
            "_view_module_version": "1.2.0",
            "_view_name": "LayoutView",
            "align_content": null,
            "align_items": null,
            "align_self": null,
            "border": null,
            "bottom": null,
            "display": null,
            "flex": null,
            "flex_flow": null,
            "grid_area": null,
            "grid_auto_columns": null,
            "grid_auto_flow": null,
            "grid_auto_rows": null,
            "grid_column": null,
            "grid_gap": null,
            "grid_row": null,
            "grid_template_areas": null,
            "grid_template_columns": null,
            "grid_template_rows": null,
            "height": null,
            "justify_content": null,
            "justify_items": null,
            "left": null,
            "margin": null,
            "max_height": null,
            "max_width": null,
            "min_height": null,
            "min_width": null,
            "object_fit": null,
            "object_position": null,
            "order": null,
            "overflow": null,
            "overflow_x": null,
            "overflow_y": null,
            "padding": null,
            "right": null,
            "top": null,
            "visibility": null,
            "width": null
          }
        },
        "88f3a537bbbd43fb9a594cda348d9bed": {
          "model_module": "@jupyter-widgets/controls",
          "model_module_version": "1.5.0",
          "model_name": "FloatProgressModel",
          "state": {
            "_dom_classes": [],
            "_model_module": "@jupyter-widgets/controls",
            "_model_module_version": "1.5.0",
            "_model_name": "FloatProgressModel",
            "_view_count": null,
            "_view_module": "@jupyter-widgets/controls",
            "_view_module_version": "1.5.0",
            "_view_name": "ProgressView",
            "bar_style": "",
            "description": "",
            "description_tooltip": null,
            "layout": "IPY_MODEL_7e3cd5fb83c24d179d13951694deebb9",
            "max": 1,
            "min": 0,
            "orientation": "horizontal",
            "style": "IPY_MODEL_685afb0f03244ccab300a8ebf7153170",
            "value": 0.899354348651728
          }
        },
        "9f3965b11f504171b2fe88dc40cc09aa": {
          "model_module": "@jupyter-widgets/controls",
          "model_module_version": "1.5.0",
          "model_name": "DescriptionStyleModel",
          "state": {
            "_model_module": "@jupyter-widgets/controls",
            "_model_module_version": "1.5.0",
            "_model_name": "DescriptionStyleModel",
            "_view_count": null,
            "_view_module": "@jupyter-widgets/base",
            "_view_module_version": "1.2.0",
            "_view_name": "StyleView",
            "description_width": ""
          }
        },
        "cb9a8c2ddeb44b7fb5ae6e346aa51346": {
          "model_module": "@jupyter-widgets/base",
          "model_module_version": "1.2.0",
          "model_name": "LayoutModel",
          "state": {
            "_model_module": "@jupyter-widgets/base",
            "_model_module_version": "1.2.0",
            "_model_name": "LayoutModel",
            "_view_count": null,
            "_view_module": "@jupyter-widgets/base",
            "_view_module_version": "1.2.0",
            "_view_name": "LayoutView",
            "align_content": null,
            "align_items": null,
            "align_self": null,
            "border": null,
            "bottom": null,
            "display": null,
            "flex": null,
            "flex_flow": null,
            "grid_area": null,
            "grid_auto_columns": null,
            "grid_auto_flow": null,
            "grid_auto_rows": null,
            "grid_column": null,
            "grid_gap": null,
            "grid_row": null,
            "grid_template_areas": null,
            "grid_template_columns": null,
            "grid_template_rows": null,
            "height": null,
            "justify_content": null,
            "justify_items": null,
            "left": null,
            "margin": null,
            "max_height": null,
            "max_width": null,
            "min_height": null,
            "min_width": null,
            "object_fit": null,
            "object_position": null,
            "order": null,
            "overflow": null,
            "overflow_x": null,
            "overflow_y": null,
            "padding": null,
            "right": null,
            "top": null,
            "visibility": null,
            "width": null
          }
        },
        "d2603184c7434cb5904f602752ad1c17": {
          "model_module": "@jupyter-widgets/controls",
          "model_module_version": "1.5.0",
          "model_name": "VBoxModel",
          "state": {
            "_dom_classes": [],
            "_model_module": "@jupyter-widgets/controls",
            "_model_module_version": "1.5.0",
            "_model_name": "VBoxModel",
            "_view_count": null,
            "_view_module": "@jupyter-widgets/controls",
            "_view_module_version": "1.5.0",
            "_view_name": "VBoxView",
            "box_style": "",
            "children": [
              "IPY_MODEL_63cd995531b841b19c37b727c3878fc8",
              "IPY_MODEL_88f3a537bbbd43fb9a594cda348d9bed"
            ],
            "layout": "IPY_MODEL_cb9a8c2ddeb44b7fb5ae6e346aa51346"
          }
        },
        "dc2b1313d7d542a1b1874f769af8c308": {
          "model_module": "@jupyter-widgets/controls",
          "model_module_version": "1.5.0",
          "model_name": "LabelModel",
          "state": {
            "_dom_classes": [],
            "_model_module": "@jupyter-widgets/controls",
            "_model_module_version": "1.5.0",
            "_model_name": "LabelModel",
            "_view_count": null,
            "_view_module": "@jupyter-widgets/controls",
            "_view_module_version": "1.5.0",
            "_view_name": "LabelView",
            "description": "",
            "description_tooltip": null,
            "layout": "IPY_MODEL_280d232a5f634900a1fb9f928282edf4",
            "placeholder": "​",
            "style": "IPY_MODEL_9f3965b11f504171b2fe88dc40cc09aa",
            "value": "0.009 MB of 0.009 MB uploaded (0.000 MB deduped)\r"
          }
        },
        "ec6e1e0e839d4483aed26c81109b1c16": {
          "model_module": "@jupyter-widgets/base",
          "model_module_version": "1.2.0",
          "model_name": "LayoutModel",
          "state": {
            "_model_module": "@jupyter-widgets/base",
            "_model_module_version": "1.2.0",
            "_model_name": "LayoutModel",
            "_view_count": null,
            "_view_module": "@jupyter-widgets/base",
            "_view_module_version": "1.2.0",
            "_view_name": "LayoutView",
            "align_content": null,
            "align_items": null,
            "align_self": null,
            "border": null,
            "bottom": null,
            "display": null,
            "flex": null,
            "flex_flow": null,
            "grid_area": null,
            "grid_auto_columns": null,
            "grid_auto_flow": null,
            "grid_auto_rows": null,
            "grid_column": null,
            "grid_gap": null,
            "grid_row": null,
            "grid_template_areas": null,
            "grid_template_columns": null,
            "grid_template_rows": null,
            "height": null,
            "justify_content": null,
            "justify_items": null,
            "left": null,
            "margin": null,
            "max_height": null,
            "max_width": null,
            "min_height": null,
            "min_width": null,
            "object_fit": null,
            "object_position": null,
            "order": null,
            "overflow": null,
            "overflow_x": null,
            "overflow_y": null,
            "padding": null,
            "right": null,
            "top": null,
            "visibility": null,
            "width": null
          }
        },
        "f5405ce7911042a8a2a5e0c1d3614c44": {
          "model_module": "@jupyter-widgets/base",
          "model_module_version": "1.2.0",
          "model_name": "LayoutModel",
          "state": {
            "_model_module": "@jupyter-widgets/base",
            "_model_module_version": "1.2.0",
            "_model_name": "LayoutModel",
            "_view_count": null,
            "_view_module": "@jupyter-widgets/base",
            "_view_module_version": "1.2.0",
            "_view_name": "LayoutView",
            "align_content": null,
            "align_items": null,
            "align_self": null,
            "border": null,
            "bottom": null,
            "display": null,
            "flex": null,
            "flex_flow": null,
            "grid_area": null,
            "grid_auto_columns": null,
            "grid_auto_flow": null,
            "grid_auto_rows": null,
            "grid_column": null,
            "grid_gap": null,
            "grid_row": null,
            "grid_template_areas": null,
            "grid_template_columns": null,
            "grid_template_rows": null,
            "height": null,
            "justify_content": null,
            "justify_items": null,
            "left": null,
            "margin": null,
            "max_height": null,
            "max_width": null,
            "min_height": null,
            "min_width": null,
            "object_fit": null,
            "object_position": null,
            "order": null,
            "overflow": null,
            "overflow_x": null,
            "overflow_y": null,
            "padding": null,
            "right": null,
            "top": null,
            "visibility": null,
            "width": null
          }
        },
        "f67505d3b3104b12a489eb1a9cfb8586": {
          "model_module": "@jupyter-widgets/controls",
          "model_module_version": "1.5.0",
          "model_name": "VBoxModel",
          "state": {
            "_dom_classes": [],
            "_model_module": "@jupyter-widgets/controls",
            "_model_module_version": "1.5.0",
            "_model_name": "VBoxModel",
            "_view_count": null,
            "_view_module": "@jupyter-widgets/controls",
            "_view_module_version": "1.5.0",
            "_view_name": "VBoxView",
            "box_style": "",
            "children": [
              "IPY_MODEL_dc2b1313d7d542a1b1874f769af8c308",
              "IPY_MODEL_11f80b04a750463bb8b5298281867d33"
            ],
            "layout": "IPY_MODEL_ec6e1e0e839d4483aed26c81109b1c16"
          }
        }
      }
    }
  },
  "nbformat": 4,
  "nbformat_minor": 0
}